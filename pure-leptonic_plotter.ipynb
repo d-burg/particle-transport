{
 "cells": [
  {
   "cell_type": "markdown",
   "metadata": {},
   "source": [
    "# NAIMA Lepto-Hadronic SED plot"
   ]
  },
  {
   "cell_type": "code",
   "execution_count": 1,
   "metadata": {},
   "outputs": [],
   "source": [
    "\"\"\"                                                                                \n",
    "syn_ic_pp_plotter.py: This file creates a InverseCompton + Synchrotron + PionDecay\\\n",
    " model using                                                                       \n",
    "a PL, ECPL or ECBPL model for the source electron population. Plots data and       \n",
    "model on one figure and saves/shows figure.                                        \n",
    "                                                                                   \n",
    "Adapted from crab_ssc_model.py from Naima examples                                 \n",
    "\"\"\"\n",
    "\n",
    "__authors__ = 'Yve Schutt and Daniel Burgess'"
   ]
  },
  {
   "cell_type": "code",
   "execution_count": 1,
   "metadata": {},
   "outputs": [],
   "source": [
    "import sys\n",
    "import warnings\n",
    "import numpy as np\n",
    "import matplotlib.pyplot as plt\n",
    "from astropy.io import ascii\n",
    "from astropy.constants import c\n",
    "import astropy.units as u\n",
    "import naima\n",
    "import matplotlib.patches as mpatches\n",
    "import matplotlib.lines as mlines\n",
    "from naima.models import (ExponentialCutoffPowerLaw, PowerLaw,\n",
    "    ExponentialCutoffBrokenPowerLaw, Synchrotron, PionDecay, InverseCompton)"
   ]
  },
  {
   "cell_type": "code",
   "execution_count": 2,
   "metadata": {},
   "outputs": [],
   "source": [
    "#Handle argument 'exception'   \n",
    "#arg_error = ('ArgumentError: Please enter a proper distribution name when ' + 'running plotter (e.g. ECPL).')\n",
    "#if len(sys.argv) != 2:\n",
    "#    print(arg_error)\n",
    "#    exit()\n",
    "#else:\n",
    "#    arg = sys.argv[1].strip()"
   ]
  },
  {
   "cell_type": "code",
   "execution_count": 2,
   "metadata": {},
   "outputs": [],
   "source": [
    "    # ECPL\n",
    "    pars = [4.0e+33 / u.eV, 1.0 * u.TeV, 2.461117110809327, 229.5782869248687 * u.TeV, 4.5 * u.uG]\n",
    "    distro = ExponentialCutoffPowerLaw(amplitude=pars[0], e_0=pars[1],\n",
    "                                       alpha=pars[2], e_cutoff=pars[3])\n",
    "    #pars_pp = [0.85e34 / u.eV, 1.0 * u.TeV, 1.2, 70 * u.TeV]\n",
    "    #distro_pp = ExponentialCutoffPowerLaw(amplitude=pars_pp[0],\n",
    "    #                                      e_0=pars_pp[1],\n",
    "    #                                      alpha=pars_pp[2],\n",
    "    #                                      e_cutoff=pars_pp[3])"
   ]
  },
  {
   "cell_type": "code",
   "execution_count": 403,
   "metadata": {},
   "outputs": [],
   "source": [
    "    # ECBPL\n",
    "    pars = [5e33 / u.eV, 1 * u.TeV, 10 * u.TeV, 1.75, 2.5, 100 * u.TeV,\n",
    "            5 * u.uG]\n",
    "    distro = ExponentialCutoffBrokenPowerLaw(amplitude=pars[0],\n",
    "                                             e_0=pars[1],\n",
    "                                             e_break=pars[2],\n",
    "                                             alpha_1=pars[3],\n",
    "                                             alpha_2=pars[4],\n",
    "                                             e_cutoff=pars[5],\n",
    "                                             beta=1.)\n",
    "    #pars_pp = [0.5e34 / u.eV, 1.0 * u.TeV, 1.2, 70 * u.TeV]\n",
    "    #distro_pp = ExponentialCutoffPowerLaw(amplitude=pars_pp[0],\n",
    "    #                                      e_0=pars_pp[1],\n",
    "    #                                      alpha=pars_pp[2],\n",
    "    #                                      e_cutoff=pars_pp[3])"
   ]
  },
  {
   "cell_type": "code",
   "execution_count": 213,
   "metadata": {},
   "outputs": [],
   "source": [
    "    # PL\n",
    "    pars = [5.0e30 / u.eV, 1.0 * u.TeV, 1.5, 1.0 * u.uG]\n",
    "    distro = PowerLaw(amplitude=pars[0], e_0 = pars[1], alpha=pars[2])\n",
    "    \n",
    "    #pars_pp = [1.3e34 / u.eV, 1.0 * u.TeV, 1.25, 70 * u.TeV]\n",
    "    #distro_pp = ExponentialCutoffPowerLaw(amplitude=pars_pp[0],\n",
    "    #                                      e_0=pars_pp[1],\n",
    "    #                                      alpha=pars_pp[2],\n",
    "    #                                      e_cutoff=pars_pp[3])"
   ]
  },
  {
   "cell_type": "code",
   "execution_count": 3,
   "metadata": {},
   "outputs": [],
   "source": [
    "with warnings.catch_warnings():\n",
    "\n",
    "    #ignores FutureWarning re: tuple vs. array                                     \n",
    "    warnings.simplefilter('ignore')\n",
    "\n",
    "    # Set up models                                                                \n",
    "    SYN = Synchrotron(distro, B= pars[-1])\n",
    "    #PP = PionDecay(distro_pp, nh=50.0 / u.cm**3)\n",
    "\n",
    "    #Compute photon density spectrum from synchrotron emission assuming R=1 pc     \n",
    "    Rpwn = 0.17 * u.pc\n",
    "    Esy = np.logspace(-7, 9, 100) * u.eV\n",
    "    Lsy = SYN.flux(Esy, distance=0 * u.cm)  # use distance 0 to get luminosity     \n",
    "    phn_sy = Lsy / (4 * np.pi * Rpwn**2 * c) * 2.24\n",
    "    \n",
    "    IC = InverseCompton(distro, seed_photon_fields=['CMB', ['SSC', Esy, phn_sy],\n",
    "                                ['FIR', 9.5 * u.K, 3.0 * u.eV / u.cm**3],\n",
    "                                ['NIR', 5000 * u.K, 0.5 * u.eV / u.cm**3]],\n",
    "                                Eemin=0.5 * u.GeV)\n",
    "    #default seed photon fields                                \n",
    "                            #['CMB', 2.73 * u.K, 0.261 * u.ev / u.cm**3]               \n",
    "                            #['FIR', 30 * u.K, 0.5 * u.eV / u.cm**3]                   \n",
    "                            #['NIR', 3000 * u.K, 1 * u.eV / u.cm**3] "
   ]
  },
  {
   "cell_type": "code",
   "execution_count": 10,
   "metadata": {},
   "outputs": [],
   "source": [
    "    # Read in data                                                                 \n",
    "   # radio = ascii.read('arecibo_lim.dat')                                         \n",
    "    hard_xray_A = ascii.read('NuSTAR_ulims.dat')\n",
    "    hard_xray_B = ascii.read('nu40501006002B01.dat')\n",
    "    soft_xray = ascii.read('mos1+mos2_pwn_nh-corr.dat')\n",
    "    chandra = ascii.read('chandra_pwn_nh-corr.dat')\n",
    "    fermi = ascii.read('4FGL_J1826.1-1256.dat')\n",
    "    vhe = ascii.read('HESSJ1826-130_new.dat')\n",
    "    ehwc = ascii.read('HAWC_J1826-128.dat')\n",
    "    blank = ascii.read('blank.dat')                                               "
   ]
  },
  {
   "cell_type": "code",
   "execution_count": 11,
   "metadata": {},
   "outputs": [],
   "source": [
    "    # Plot data on one figure                                                      \n",
    "    #figure = naima.plot_data(radio, e_unit=u.eV)                                  \n",
    "    #figure = naima.plot_data(soft_xray, e_unit=u.eV)                              \n",
    "    #figure = naima.plot_data(blank, e_unit=u.eV)                                  \n",
    "    #figure = naima.plot_data(fermi, e_unit=u.eV)                                  \n",
    "    #figure = naima.plot_data(vhe, e_unit=u.eV)\n",
    "   # naima.plot_data(radio, figure=figure, e_unit=u.eV)                            \n",
    "    #ax = figure.axes[0]\n",
    "    #plt.xscale(\"log\", nonposx='clip')\n",
    "    #plt.yscale(\"log\", nonposy='clip')    "
   ]
  },
  {
   "cell_type": "code",
   "execution_count": 12,
   "metadata": {},
   "outputs": [],
   "source": [
    "    # Set units\n",
    "    fermi['energy'].unit = u.eV\n",
    "    fermi['flux'].unit = u.erg/u.cm**2/u.s\n",
    "    fermi['flux_error'].unit = u.erg/u.cm**2/u.s\n",
    "    hard_xray_A['energy'].unit = u.eV\n",
    "    hard_xray_A['flux'].unit = u.erg/u.cm**2/u.s\n",
    "    hard_xray_A['flux_error'].unit = u.erg/u.cm**2/u.s\n",
    "    hard_xray_B['energy'].unit = u.eV\n",
    "    hard_xray_B['flux'].unit = u.erg/u.cm**2/u.s\n",
    "    soft_xray['energy'].unit = u.eV\n",
    "    soft_xray['flux'].unit = u.erg/u.cm**2/u.s\n",
    "    chandra['energy'].unit = u.eV\n",
    "    chandra['flux'].unit = u.erg/u.cm**2/u.s\n",
    "    vhe['energy'].unit = u.eV\n",
    "    vhe['flux'].unit = u.erg/u.cm**2/u.s\n",
    "    ehwc['energy'].unit = u.eV\n",
    "    ehwc['flux'].unit = u.erg/u.cm**2/u.s"
   ]
  },
  {
   "cell_type": "code",
   "execution_count": 13,
   "metadata": {},
   "outputs": [],
   "source": [
    "    # Read in errorbars\n",
    "    fxerr = ([fermi['energy_edge_lo'], fermi['energy_edge_hi']])\n",
    "    fyerr = (fermi['flux_error'])\n",
    "    haxerr = ([hard_xray_A['energy_edge_lo'], hard_xray_A['energy_edge_hi']])\n",
    "    hayerr = (hard_xray_A['flux_error'])\n",
    "    hbxerr = ([hard_xray_B['energy_edge_lo'], hard_xray_B['energy_edge_hi']])\n",
    "    hbyerr = (hard_xray_B['flux_error'])\n",
    "    sxerr = ([soft_xray['energy_edge_lo'], soft_xray['energy_edge_hi']])\n",
    "    syerr = (soft_xray['flux_error'])\n",
    "    cxerr = ([chandra['energy_edge_lo'], chandra['energy_edge_hi']])\n",
    "    cyerr = (chandra['flux_error'])\n",
    "    vxerr = ([vhe['energy_edge_lo'], vhe['energy_edge_hi']])\n",
    "    vyerr = (vhe['flux_error'])\n",
    "    exerr = ([ehwc['energy_edge_lo'], ehwc['energy_edge_hi']])\n",
    "    eyerr = (ehwc['flux_error'])"
   ]
  },
  {
   "cell_type": "code",
   "execution_count": 15,
   "metadata": {},
   "outputs": [
    {
     "name": "stderr",
     "output_type": "stream",
     "text": [
      "/Users/danielburgess/anaconda3/lib/python3.7/site-packages/ipykernel_launcher.py:104: MatplotlibDeprecationWarning: Adding an axes using the same arguments as a previous axes currently reuses the earlier instance.  In a future version, a new instance will always be created and returned.  Meanwhile, this warning can be suppressed, and the future behavior ensured, by passing a unique label to each axes instance.\n"
     ]
    },
    {
     "data": {
      "image/png": "[encoded data removed]",
      "text/plain": [
       "<Figure size 432x288 with 1 Axes>"
      ]
     },
     "metadata": {
      "needs_background": "light"
     },
     "output_type": "display_data"
    }
   ],
   "source": [
    "    figure = naima.plot_data(blank, e_unit=u.eV)\n",
    "    \n",
    "    ax = figure.axes[0]\n",
    "    ax.set_xscale(\"log\", nonposx='clip')\n",
    "    ax.set_yscale(\"log\", nonposy='clip')\n",
    "    \n",
    "    \n",
    "    # Plot NuSTAR upper limits\n",
    "    #uplims = np.array([0, 1, 1], dtype=bool)\n",
    "    #upperlimits = [True, False] * 3\n",
    "    \n",
    "    #plt.errorbar(hard_xray_A['energy'], hard_xray_A['flux'], xerr=haxerr, yerr=hayerr, uplims=True, fmt=',', c='gray', elinewidth=0.9, capsize=1.5)\n",
    "    #plt.scatter(hard_xray_A['energy'], hard_xray_A['flux'], marker='D', s=3, c='gray')\n",
    "    \n",
    "    # Plot HESS data\n",
    "    ax.errorbar(vhe['energy'], vhe['flux'], xerr=vxerr, yerr=vyerr, fmt='.', c='orange', elinewidth=0.6)\n",
    "    \n",
    "    # Plot HAWC data\n",
    "    upperlimits = np.array([1, 1, 0, 0, 0, 0, 0, 0, 0, 1], dtype=bool)\n",
    "    ax.errorbar(ehwc['energy'], ehwc['flux'], xerr=exerr, yerr=eyerr, uplims = upperlimits, fmt='.', c='green', elinewidth=0.6)\n",
    "    \n",
    "    # Plot NuSTAR data (range)\n",
    "    energy = np.array(hard_xray_A['energy'])\n",
    "    powerlaw1 = (energy**2)*4.2389e-05*(energy**-1.376)*(1.602e-09) #nu_up         \n",
    "    powerlaw2 = (energy**2)*3.6193e-05*(energy**-1.376)*(1.602e-09) #nu_low        \n",
    "    powerlaw3 = (energy**2)*2.0541e-05*(energy**-1.651)*(1.602e-09) #pwn_up        \n",
    "    powerlaw4 = (energy**2)*1.1252e-05*(energy**-1.651)*(1.602e-09) #pwn_low       \n",
    "    powerlaw5 = (energy**2)*4.2389e-05*(energy**-1.323)*(1.602e-09) #nu_er_up      \n",
    "    powerlaw6 = (energy**2)*3.6193e-05*(energy**-1.426)*(1.602e-09) #nu_er_low     \n",
    "    powerlaw7 = (energy**2)*8.3693e-06*(energy**-2.156)*(1.602e-09) #pwn_er_up     \n",
    "    powerlaw8 = (energy**2)*5.8160e-06*(energy**-1.230)*(1.602e-09) #pwn_er_low    \n",
    "    #ax.fill_between(hard_xray_A['energy']*1e3, powerlaw1, powerlaw2, color='red', zorder=10, alpha=0.75) #nustar between norms                                    \n",
    "    #ax.fill_between(hard_xray_A['energy']*1e3, powerlaw3, powerlaw4, color='blue', zorder=10, alpha=0.6) #pwn between norms                                          \n",
    "    #ax.fill_between(hard_xray_A['energy']*1e3, powerlaw5, powerlaw1, color='orange', zorder=10, alpha=0.6) #nu_er_up                                                \n",
    "    \n",
    "    #ax.fill_between(hard_xray_A['energy']*1e3, powerlaw7, powerlaw3, color='red', zorder=10, alpha=0.6) #nu_er_low                                               \n",
    "    #ax.fill_between(hard_xray_A['energy']*1e3, powerlaw3, powerlaw4, color='red', zorder=10, alpha=0.6) #pwn_er_up\n",
    "    #ax.fill_between(hard_xray_A['energy']*1e3, powerlaw4, powerlaw8, color='red', zorder=10, alpha=0.6) #pwn_er_low\n",
    "    #ax.fill_between(hard_xray_A['energy']*1e3, powerlaw7, powerlaw8, color='red', zorder=10, alpha=0.6) #pwn full error\n",
    "    \n",
    "    # Plot NuSTAR data (points)\n",
    "    #ax.errorbar(hard_xray_B['energy']*1e3, hard_xray_B['flux'], xerr=hbxerr, yerr=hbyerr, fmt='.', c='red', elinewidth=0.6, zorder=6, alpha=0.75)\n",
    "    \n",
    "    # Plot Chandra data\n",
    "    ax.errorbar(chandra['energy']*1e3, chandra['flux'], xerr=cxerr, yerr=cyerr, zorder=9, fmt=',', c='cyan', elinewidth=0.6, alpha=0.6)\n",
    "    ax.scatter(chandra['energy']*1e3, chandra['flux'], marker='D', zorder=9, s=3, c='cyan')\n",
    "    \n",
    "    # Plot XMM data\n",
    "    ax.errorbar(soft_xray['energy']*1e3, soft_xray['flux'], xerr=sxerr, yerr=syerr, zorder=5, fmt=',', c='blue', elinewidth=0.6, alpha=0.6)\n",
    "    ax.scatter(soft_xray['energy']*1e3, soft_xray['flux'], marker='D', zorder=5, s=3, c='blue')\n",
    "    \n",
    "    # Plot the folded and unfolded model                                           \n",
    "    energy = np.logspace(-7, 15, 100) * u.eV\n",
    "    ax.loglog(energy, IC.sed(energy, 3.5 * u.kpc) + SYN.sed(energy, 4 * u.kpc),\n",
    "              lw=2, c='k', label='Total')\n",
    "    for i, seed, ls in zip(\n",
    "            range(4), ['CMB', 'SSC', 'FIR', 'NIR'], ['--', '-.','--', ':']):\n",
    "        ax.loglog(energy, IC.sed(energy, 3.5 * u.kpc, seed=seed),\n",
    "                  lw=1, c=naima.plot.color_cycle[i + 1], label=seed, ls=ls)\n",
    "    ax.loglog(energy, SYN.sed(energy, 3.5 * u.kpc), lw=1,\n",
    "              c=naima.plot.color_cycle[i+2], label='Syn', ls='--')\n",
    "    #ax.loglog(energy, PP.sed(energy, 4 * u.kpc), lw=1,\n",
    "    #          c=naima.plot.color_cycle[4], label='PP', ls='--')\n",
    "    \n",
    "    ax.set_xlabel(\"Energy [eV]\")\n",
    "    ax.set_ylabel(\"$E^2$dN/dE [erg $s^{-1}$ $cm^{-2}$]\")\n",
    "\n",
    "    ax.set_ylim(1e-19, 1e-9)\n",
    "    \n",
    "    #Set parameter values as title for convenience                                     \n",
    "#if arg == 'ECPL':                                                                 \n",
    "#    ax.set_title('Norm: ' + str(pars[0]) + \", E_0: \" + str(pars[1]) +             \n",
    "#                 ', E_cutoff: ' + str(pars[3]) + '\\n' + 'Index: ' + str(pars[2]) \\+ ', B: ' + str(pars[4]))                                                          \n",
    "#if arg == 'ECBPL':                                                                \n",
    "#    ax.set_title('Norm: ' + str(pars[0]) +                                        \n",
    "#             ', E_break: ' + str(pars[2]) + ', E_cutoff: ' + str(pars[5]) +       \n",
    "#             '\\n' + 'Index 1: ' + str(pars[3]) + ', Index 2: ' + str(pars[4]) +   \n",
    "#             ', B: ' + str(pars[6]))                                              \n",
    "#if arg == 'PL':                                                                   \n",
    "#    ax.set_title('Norm: ' + str(pars[0]) + \", E_0: \" + str(pars[1]) + '\\n' +      \n",
    "#                 'Index: ' + str(pars[2]) + ', B: ' + str(pars[3]) + 'We' + str(pars[5])) \n",
    "\n",
    "#prompt user for file name input                                                   \n",
    "# file_name = (input('Enter file name for plot [srcname_ic+syn_' + str(arg) +      \n",
    "#                   '_#.png]:') or 'srcname_ic+syn_'+str(arg)+'_#.png') \n",
    "\n",
    "#legend\n",
    "    red_patch = mpatches.Patch(color='red', label='PWN component', alpha=0.6)\n",
    "    blue_line = mlines.Line2D([], [], color='blue', marker='D', markersize=2, linewidth=0.6, label='XMM-Newton')\n",
    "    gray_line = mlines.Line2D([], [], color='cyan', marker='D', markersize=2, linewidth=0.6, label='Chandra')\n",
    "    orange_line = mlines.Line2D([], [], color='orange', marker='.', markersize=6, linewidth=0.6, label='HESS')\n",
    "    #plt.legend(handles=[red_patch, blue_line], fontsize='small')\n",
    "\n",
    "    first_legend = ax.legend(loc='upper left', frameon=False)\n",
    "\n",
    "    ax = plt.gca().add_artist(first_legend)\n",
    "    \n",
    "    plt.legend(handles=[blue_line, gray_line, orange_line], loc='upper right', fontsize='small')\n",
    "\n",
    "#save and/or plot figure                                                           \n",
    "    plt.tight_layout()\n",
    "    #ax.set_aspect(1.75)\n",
    "    #ax.set_aspect('equal')\n",
    "    plt.axes().set_aspect(1.75)\n",
    "    plt.savefig('pure-leptonic_hess.pdf', format='pdf', bbox_inches='tight')\n",
    "    #plt.savefig('lepto-hadronic_hess', dpi=300, facecolor='w', edgecolor='w',\n",
    "    #    orientation='landscape', format='png',\n",
    "    #    transparent=False, bbox_inches=None, pad_inches=0.1)\n",
    "    plt.show()"
   ]
  },
  {
   "cell_type": "code",
   "execution_count": 48,
   "metadata": {},
   "outputs": [
    {
     "name": "stdout",
     "output_type": "stream",
     "text": [
      "1.207092265260553e+46 erg\n"
     ]
    }
   ],
   "source": [
    "We = IC.compute_We(Eemin = 1*u.TeV)\n",
    "print(We)"
   ]
  },
  {
   "cell_type": "code",
   "execution_count": 163,
   "metadata": {},
   "outputs": [
    {
     "name": "stdout",
     "output_type": "stream",
     "text": [
      "2.95232118218066e+45 erg\n"
     ]
    }
   ],
   "source": [
    "We_syn = SYN.compute_We(Eemin = 1*u.TeV)\n",
    "print(We_syn)"
   ]
  },
  {
   "cell_type": "code",
   "execution_count": null,
   "metadata": {},
   "outputs": [],
   "source": []
  },
  {
   "cell_type": "markdown",
   "metadata": {},
   "source": [
    "### "
   ]
  }
 ],
 "metadata": {
  "kernelspec": {
   "display_name": "Python 3",
   "language": "python",
   "name": "python3"
  },
  "language_info": {
   "codemirror_mode": {
    "name": "ipython",
    "version": 3
   },
   "file_extension": ".py",
   "mimetype": "text/x-python",
   "name": "python",
   "nbconvert_exporter": "python",
   "pygments_lexer": "ipython3",
   "version": "3.7.3"
  }
 },
 "nbformat": 4,
 "nbformat_minor": 2
}
